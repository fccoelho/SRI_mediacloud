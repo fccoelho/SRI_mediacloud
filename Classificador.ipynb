{
 "metadata": {
  "name": "",
  "signature": "sha256:b0ea130b25ba069044a83280f6c5df761b16c9514f37e2fb04072b375f2755f6"
 },
 "nbformat": 3,
 "nbformat_minor": 0,
 "worksheets": [
  {
   "cells": [
    {
     "cell_type": "code",
     "collapsed": false,
     "input": [
      "from sklearn.naive_bayes import MultinomialNB\n",
      "from sklearn.feature_extraction.text import TfidfVectorizer, CountVectorizer\n",
      "from sklearn import metrics\n",
      "from operator import itemgetter\n",
      "from sklearn.metrics import classification_report\n",
      "import numpy as np\n",
      "import os\n",
      "import pymongo\n",
      "import nltk\n",
      "from collections import Counter\n",
      "import random"
     ],
     "language": "python",
     "metadata": {},
     "outputs": [],
     "prompt_number": 53
    },
    {
     "cell_type": "code",
     "collapsed": false,
     "input": [
      "client = pymongo.MongoClient()\n",
      "mongo = client.UOL_CRAWLER.urls\n",
      "db = mongo.find({'parsed':{'$exists':True}}, {'cleaned_text':1, 'name':1, '_id':0})\n",
      "labels = []\n",
      "data = []\n",
      "db = list(db)\n",
      "random.shuffle(db)\n",
      "for d in db:\n",
      "    if d['name'] == 'eleicoes':\n",
      "        continue\n",
      "    labels.append(d['name'])\n",
      "    data.append(d['cleaned_text'])"
     ],
     "language": "python",
     "metadata": {},
     "outputs": [],
     "prompt_number": 75
    },
    {
     "cell_type": "code",
     "collapsed": false,
     "input": [
      "Counter(labels)"
     ],
     "language": "python",
     "metadata": {},
     "outputs": [
      {
       "metadata": {},
       "output_type": "pyout",
       "prompt_number": 76,
       "text": [
        "Counter({u'musica': 1007, u'carros': 1002, u'tecnologia': 994, u'cinema': 990, u'saude': 972, u'ciencia': 965, u'cotidiano': 957, u'economia': 936, u'esporte': 904, u'politica': 897, u'internacional': 809})"
       ]
      }
     ],
     "prompt_number": 76
    },
    {
     "cell_type": "code",
     "collapsed": false,
     "input": [
      "trainset_size = int(round(len(data)*0.75)) # i chose this threshold arbitrarily...to discuss\n",
      "print 'The training set size for this classifier is ' + str(trainset_size) + '\\n'"
     ],
     "language": "python",
     "metadata": {},
     "outputs": [
      {
       "output_type": "stream",
       "stream": "stdout",
       "text": [
        "The training set size for this classifier is 7825\n",
        "\n"
       ]
      }
     ],
     "prompt_number": 77
    },
    {
     "cell_type": "code",
     "collapsed": false,
     "input": [
      "X_train = np.array([''.join(el) for el in data[:trainset_size]])\n",
      "y_train = np.array([el for el in labels[:trainset_size]])\n",
      "\n",
      "X_test = np.array([''.join(el) for el in data[trainset_size+1:len(data)]]) \n",
      "y_test = np.array([el for el in labels[trainset_size+1:len(labels)]]) "
     ],
     "language": "python",
     "metadata": {},
     "outputs": [],
     "prompt_number": 78
    },
    {
     "cell_type": "code",
     "collapsed": false,
     "input": [
      "vectorizer = CountVectorizer(min_df=2, \n",
      " ngram_range=(1, 1), \n",
      " stop_words=nltk.corpus.stopwords.words('portuguese'), \n",
      " strip_accents='unicode')\n",
      "\n",
      "test_string = unicode(data[0])\n",
      "\n",
      "#print \"Example string: \" + test_string\n",
      "#print \"Preprocessed string: \" + vectorizer.build_preprocessor()(test_string)\n",
      "#print \"Tokenized string:\" + str(vectorizer.build_tokenizer()(test_string))\n",
      "#print \"N-gram data string:\" + str(vectorizer.build_analyzer()(test_string))\n",
      "#print \"\\n\""
     ],
     "language": "python",
     "metadata": {},
     "outputs": [],
     "prompt_number": 79
    },
    {
     "cell_type": "code",
     "collapsed": false,
     "input": [
      "X_train = vectorizer.fit_transform(X_train)\n",
      "X_test = vectorizer.transform(X_test)\n",
      "\n",
      "nb_classifier = MultinomialNB().fit(X_train, y_train)\n",
      "\n",
      "y_nb_predicted = nb_classifier.predict(X_test)\n",
      "\n",
      "print \"MODEL: Multinomial Naive Bayes\\n\"\n",
      "\n",
      "print 'The precision for this classifier is ' + str(metrics.precision_score(y_test, y_nb_predicted))\n",
      "print 'The recall for this classifier is ' + str(metrics.recall_score(y_test, y_nb_predicted))\n",
      "print 'The f1 for this classifier is ' + str(metrics.f1_score(y_test, y_nb_predicted))\n",
      "print 'The accuracy for this classifier is ' + str(metrics.accuracy_score(y_test, y_nb_predicted))\n",
      "\n",
      "print '\\nHere is the classification report:'\n",
      "print classification_report(y_test, y_nb_predicted)\n",
      "\n",
      "#simple thing to do would be to up the n-grams to bigrams; try varying ngram_range from (1, 1) to (1, 2)\n",
      "#we could also modify the vectorizer to stem or lemmatize\n",
      "print '\\nHere is the confusion matrix:'\n",
      "print metrics.confusion_matrix(y_test, y_nb_predicted, labels=np.unique(labels))"
     ],
     "language": "python",
     "metadata": {},
     "outputs": [
      {
       "output_type": "stream",
       "stream": "stdout",
       "text": [
        "MODEL: Multinomial Naive Bayes\n",
        "\n",
        "The precision for this classifier is 0.795228244292\n",
        "The recall for this classifier is 0.493287303414\n",
        "The f1 for this classifier is 0.537581083047\n",
        "The accuracy for this classifier is 0.493287303414\n",
        "\n",
        "Here is the classification report:\n",
        "             precision    recall  f1-score   support\n",
        "\n",
        "     carros       0.98      0.69      0.81       252\n",
        "    ciencia       0.87      0.65      0.74       250\n",
        "     cinema       0.87      0.78      0.82       254\n",
        "  cotidiano       0.78      0.53      0.63       274\n",
        "   economia       0.70      0.11      0.20       228\n",
        "    esporte       0.95      0.26      0.41       241\n",
        "internacional       0.90      0.32      0.47       200\n",
        "     musica       0.16      0.95      0.27       227\n",
        "   politica       0.88      0.52      0.66       199\n",
        "      saude       0.75      0.32      0.45       232\n",
        " tecnologia       0.88      0.25      0.39       250\n",
        "\n",
        "avg / total       0.80      0.49      0.54      2607\n",
        "\n",
        "\n",
        "Here is the confusion matrix:\n",
        "[[173   1   1   0   1   0   0  75   1   0   0]\n",
        " [  1 162   2   8   0   1   2  61   0  11   2]\n",
        " [  0   1 198   0   0   0   2  52   0   1   0]\n",
        " [  0   6   2 144   4   1   0 104   5   6   2]\n",
        " [  2   2   2  16  26   0   1 172   2   2   3]\n",
        " [  0   0   2   0   0  63   0 175   0   0   1]\n",
        " [  0   6   4   6   2   0  63 114   4   1   0]\n",
        " [  0   1  10   0   0   1   0 215   0   0   0]\n",
        " [  0   0   0   7   1   0   1  85 104   1   0]\n",
        " [  0   5   2   1   0   0   1 146   1  75   1]\n",
        " [  0   3   4   3   3   0   0 170   1   3  63]]\n"
       ]
      }
     ],
     "prompt_number": 80
    },
    {
     "cell_type": "code",
     "collapsed": false,
     "input": [
      "from sklearn.svm import LinearSVC\n",
      "\n",
      "svm_classifier = LinearSVC().fit(X_train, y_train)\n",
      "\n",
      "y_svm_predicted = svm_classifier.predict(X_test)\n",
      "print \"MODEL: Linear SVC\\n\"\n",
      "\n",
      "print 'The precision for this classifier is ' + str(metrics.precision_score(y_test, y_svm_predicted))\n",
      "print 'The recall for this classifier is ' + str(metrics.recall_score(y_test, y_svm_predicted))\n",
      "print 'The f1 for this classifier is ' + str(metrics.f1_score(y_test, y_svm_predicted))\n",
      "print 'The accuracy for this classifier is ' + str(metrics.accuracy_score(y_test, y_svm_predicted))\n",
      "\n",
      "print '\\nHere is the classification report:'\n",
      "print classification_report(y_test, y_svm_predicted)\n",
      "\n",
      "#simple thing to do would be to up the n-grams to bigrams; try varying ngram_range from (1, 1) to (1, 2)\n",
      "#we could also modify the vectorizer to stem or lemmatize\n",
      "print '\\nHere is the confusion matrix:'\n",
      "print metrics.confusion_matrix(y_test, y_svm_predicted, labels=np.unique(labels))"
     ],
     "language": "python",
     "metadata": {},
     "outputs": [
      {
       "output_type": "stream",
       "stream": "stdout",
       "text": [
        "MODEL: Linear SVC\n",
        "\n",
        "The precision for this classifier is 0.773618727099\n",
        "The recall for this classifier is 0.504027617952\n",
        "The f1 for this classifier is 0.555223929593\n",
        "The accuracy for this classifier is 0.504027617952\n",
        "\n",
        "Here is the classification report:\n",
        "             precision    recall  f1-score   support\n",
        "\n",
        "     carros       0.95      0.69      0.80       252\n",
        "    ciencia       0.81      0.59      0.69       250\n",
        "     cinema       0.93      0.78      0.85       254\n",
        "  cotidiano       0.75      0.45      0.56       274\n",
        "   economia       0.15      0.86      0.26       228\n",
        "    esporte       0.97      0.24      0.39       241\n",
        "internacional       0.81      0.34      0.47       200\n",
        "     musica       0.92      0.54      0.68       227\n",
        "   politica       0.72      0.49      0.59       199\n",
        "      saude       0.72      0.26      0.38       232\n",
        " tecnologia       0.74      0.26      0.38       250\n",
        "\n",
        "avg / total       0.77      0.50      0.56      2607\n",
        "\n",
        "\n",
        "Here is the confusion matrix:\n",
        "[[175   0   0   0  74   0   1   0   0   0   2]\n",
        " [  1 148   0  10  62   0   6   2   5  10   6]\n",
        " [  0   0 199   0  49   0   1   3   1   0   1]\n",
        " [  1   9   0 124 107   2   2   2  17   7   3]\n",
        " [  2   2   1  11 197   0   1   0   8   0   6]\n",
        " [  0   0   0   5 175  59   1   0   0   1   0]\n",
        " [  2   3   2   2 114   0  67   0   5   4   1]\n",
        " [  0   2   7   1  93   0   0 122   0   0   2]\n",
        " [  1   0   1   7  86   0   1   1  98   2   2]\n",
        " [  0  14   1   3 147   0   2   2   2  61   0]\n",
        " [  2   4   3   2 173   0   1   1   0   0  64]]\n"
       ]
      }
     ],
     "prompt_number": 81
    },
    {
     "cell_type": "code",
     "collapsed": false,
     "input": [
      "from sklearn.linear_model import LogisticRegression\n",
      "\n",
      "maxent_classifier = LogisticRegression().fit(X_train, y_train)\n",
      "\n",
      "y_maxent_predicted = maxent_classifier.predict(X_test)\n",
      "print \"MODEL: Maximum Entropy\\n\"\n",
      "\n",
      "print 'The precision for this classifier is ' + str(metrics.precision_score(y_test, y_maxent_predicted))\n",
      "print 'The recall for this classifier is ' + str(metrics.recall_score(y_test, y_maxent_predicted))\n",
      "print 'The f1 for this classifier is ' + str(metrics.f1_score(y_test, y_maxent_predicted))\n",
      "print 'The accuracy for this classifier is ' + str(metrics.accuracy_score(y_test, y_maxent_predicted))\n",
      "\n",
      "print '\\nHere is the classification report:'\n",
      "print classification_report(y_test, y_maxent_predicted)\n",
      "\n",
      "#simple thing to do would be to up the n-grams to bigrams; try varying ngram_range from (1, 1) to (1, 2)\n",
      "#we could also modify the vectorizer to stem or lemmatize\n",
      "print '\\nHere is the confusion matrix:'\n",
      "print metrics.confusion_matrix(y_test, y_maxent_predicted, labels=np.unique(labels))"
     ],
     "language": "python",
     "metadata": {},
     "outputs": [
      {
       "output_type": "stream",
       "stream": "stdout",
       "text": [
        "MODEL: Maximum Entropy\n",
        "\n",
        "The precision for this classifier is 0.793283794678\n",
        "The recall for this classifier is 0.513617184503\n",
        "The f1 for this classifier is 0.566736649495\n",
        "The accuracy for this classifier is 0.513617184503\n",
        "\n",
        "Here is the classification report:\n",
        "             precision    recall  f1-score   support\n",
        "\n",
        "     carros       0.97      0.69      0.80       252\n",
        "    ciencia       0.84      0.62      0.71       250\n",
        "     cinema       0.94      0.78      0.85       254\n",
        "  cotidiano       0.76      0.48      0.59       274\n",
        "   economia       0.16      0.88      0.27       228\n",
        "    esporte       0.97      0.25      0.40       241\n",
        "internacional       0.84      0.33      0.47       200\n",
        "     musica       0.93      0.56      0.69       227\n",
        "   politica       0.76      0.50      0.60       199\n",
        "      saude       0.75      0.27      0.40       232\n",
        " tecnologia       0.79      0.26      0.39       250\n",
        "\n",
        "avg / total       0.79      0.51      0.57      2607\n",
        "\n",
        "\n",
        "Here is the confusion matrix:\n",
        "[[173   0   0   0  75   0   1   0   1   0   2]\n",
        " [  1 154   0  11  61   0   5   2   3   8   5]\n",
        " [  0   0 199   1  49   0   1   3   0   1   0]\n",
        " [  0   8   0 131 110   1   1   2  12   7   2]\n",
        " [  1   2   1  10 201   0   0   0   7   0   6]\n",
        " [  0   0   0   4 175  61   0   0   0   1   0]\n",
        " [  2   3   3   3 114   0  66   0   6   2   1]\n",
        " [  0   2   5   0  93   1   0 126   0   0   0]\n",
        " [  0   0   0   8  86   0   1   1 100   2   1]\n",
        " [  0  12   1   3 146   0   3   1   3  63   0]\n",
        " [  2   3   3   2 173   0   1   1   0   0  65]]\n"
       ]
      }
     ],
     "prompt_number": 82
    },
    {
     "cell_type": "code",
     "collapsed": false,
     "input": [
      "from gensim import corpora, models, similarities\n",
      "from itertools import chain\n",
      "import nltk\n",
      "from nltk.corpus import stopwords\n",
      "from operator import itemgetter\n",
      "import re\n",
      "\n",
      "url_pattern = r'https?:\\/\\/(.*[\\r\\n]*)+'\n",
      "\n",
      "documents = data\n",
      "stoplist =  nltk.corpus.stopwords.words('portuguese')\n",
      "texts = [[word for word in document.lower().split() if word not in stoplist]\n",
      "    for document in documents]\n",
      "\n",
      "dictionary = corpora.Dictionary(texts)\n",
      "corpus = [dictionary.doc2bow(text) for text in texts]\n",
      "\n",
      "tfidf = models.TfidfModel(corpus) \n",
      "corpus_tfidf = tfidf[corpus]\n",
      "\n",
      "#lsi = models.LsiModel(corpus_tfidf, id2word=dictionary, num_topics=100)\n",
      "#lsi.print_topics(20)\n",
      "\n",
      "n_topics = 20\n",
      "lda = models.LdaModel(corpus_tfidf, id2word=dictionary, num_topics=n_topics)\n",
      "\n",
      "for i in range(0, n_topics):\n",
      "    temp = lda.show_topic(i, 10)\n",
      "    terms = []\n",
      "    for term in temp:\n",
      "        terms.append(term[1])\n",
      "    print \"Top 10 terms for topic #\" + str(i) + \": \"+ \", \".join(terms)\n",
      " \n",
      "print \n",
      "print 'Which LDA topic maximally describes a document?\\n'\n",
      "print 'Original document: ' + documents[1]\n",
      "print 'Preprocessed document: ' + str(texts[1])\n",
      "print 'Matrix Market format: ' + str(corpus[1])\n",
      "print 'Topic probability mixture: ' + str(lda[corpus[1]])\n",
      "print 'Maximally probable topic: topic #' + str(max(lda[corpus[1]],key=itemgetter(1))[0])\n",
      "\n"
     ],
     "language": "python",
     "metadata": {},
     "outputs": [
      {
       "ename": "ImportError",
       "evalue": "No module named gensim",
       "output_type": "pyerr",
       "traceback": [
        "\u001b[1;31m---------------------------------------------------------------------------\u001b[0m\n\u001b[1;31mImportError\u001b[0m                               Traceback (most recent call last)",
        "\u001b[1;32m<ipython-input-83-006ca435e5b5>\u001b[0m in \u001b[0;36m<module>\u001b[1;34m()\u001b[0m\n\u001b[1;32m----> 1\u001b[1;33m \u001b[1;32mfrom\u001b[0m \u001b[0mgensim\u001b[0m \u001b[1;32mimport\u001b[0m \u001b[0mcorpora\u001b[0m\u001b[1;33m,\u001b[0m \u001b[0mmodels\u001b[0m\u001b[1;33m,\u001b[0m \u001b[0msimilarities\u001b[0m\u001b[1;33m\u001b[0m\u001b[0m\n\u001b[0m\u001b[0;32m      2\u001b[0m \u001b[1;32mfrom\u001b[0m \u001b[0mitertools\u001b[0m \u001b[1;32mimport\u001b[0m \u001b[0mchain\u001b[0m\u001b[1;33m\u001b[0m\u001b[0m\n\u001b[0;32m      3\u001b[0m \u001b[1;32mimport\u001b[0m \u001b[0mnltk\u001b[0m\u001b[1;33m\u001b[0m\u001b[0m\n\u001b[0;32m      4\u001b[0m \u001b[1;32mfrom\u001b[0m \u001b[0mnltk\u001b[0m\u001b[1;33m.\u001b[0m\u001b[0mcorpus\u001b[0m \u001b[1;32mimport\u001b[0m \u001b[0mstopwords\u001b[0m\u001b[1;33m\u001b[0m\u001b[0m\n\u001b[0;32m      5\u001b[0m \u001b[1;32mfrom\u001b[0m \u001b[0moperator\u001b[0m \u001b[1;32mimport\u001b[0m \u001b[0mitemgetter\u001b[0m\u001b[1;33m\u001b[0m\u001b[0m\n",
        "\u001b[1;31mImportError\u001b[0m: No module named gensim"
       ]
      }
     ],
     "prompt_number": 83
    },
    {
     "cell_type": "code",
     "collapsed": false,
     "input": [],
     "language": "python",
     "metadata": {},
     "outputs": []
    }
   ],
   "metadata": {}
  }
 ]
}